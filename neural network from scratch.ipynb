{
  "cells": [
    {
      "metadata": {
        "trusted": true
      },
      "cell_type": "code",
      "source": "import numpy as np",
      "execution_count": 14,
      "outputs": []
    },
    {
      "metadata": {
        "trusted": true
      },
      "cell_type": "code",
      "source": "np.random.seed(1)",
      "execution_count": 15,
      "outputs": []
    },
    {
      "metadata": {
        "trusted": true
      },
      "cell_type": "code",
      "source": "# Input\nX = np.array([\n    [0,0,1],\n    [0,1,1],\n    [1,0,1],\n    [1,1,1]\n])",
      "execution_count": 16,
      "outputs": []
    },
    {
      "metadata": {
        "trusted": true
      },
      "cell_type": "code",
      "source": "# True values\ny = np.array([\n    [0,1,1,0]\n]).T",
      "execution_count": 17,
      "outputs": []
    },
    {
      "metadata": {
        "trusted": true
      },
      "cell_type": "code",
      "source": "# Activation function\n# Limit output range between 0 and 1\ndef sigmoid(x, deriv=False):\n    if deriv == True:\n        return x * (1 - x)\n    return 1 / (1 + np.exp(-x))",
      "execution_count": 21,
      "outputs": []
    },
    {
      "metadata": {
        "trusted": true
      },
      "cell_type": "code",
      "source": "# Synapse weights initialization with mean of 0\nsynapse0 = 2 * np.random.random((3, 4)) - 1\nsynapse1 = 2 * np.random.random((4, 1)) - 1",
      "execution_count": 22,
      "outputs": []
    },
    {
      "metadata": {
        "trusted": true
      },
      "cell_type": "code",
      "source": "for idx in range(10000):\n    \n    # Define layers\n    layer0 = X\n    layer1 = sigmoid(np.dot(layer0, synapse0))\n    layer2 = sigmoid(np.dot(layer1, synapse1))\n    \n    # Calculate error and delta from true values\n    layer2_error = y - layer2\n    layer2_delta = layer2_error * sigmoid(layer2, deriv=True)\n    \n    # Backpropagation from l2 to l1\n    layer1_error = layer2_delta.dot(synapse1.T)\n    layer1_delta = layer1_error * sigmoid(layer1, True)\n    \n    # Update synapses weights\n    synapse1 += layer1.T.dot(layer2_delta)\n    synapse0 += layer0.T.dot(layer1_delta)",
      "execution_count": 25,
      "outputs": []
    },
    {
      "metadata": {
        "trusted": true
      },
      "cell_type": "code",
      "source": "# Predicted y values\nprint(layer2)",
      "execution_count": 26,
      "outputs": [
        {
          "output_type": "stream",
          "text": "[[0.00319178]\n [0.99249883]\n [0.99116594]\n [0.01010372]]\n",
          "name": "stdout"
        }
      ]
    }
  ],
  "metadata": {
    "kernelspec": {
      "name": "python36",
      "display_name": "Python 3.6",
      "language": "python"
    }
  },
  "nbformat": 4,
  "nbformat_minor": 2
}